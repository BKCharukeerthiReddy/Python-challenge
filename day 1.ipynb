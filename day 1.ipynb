{
 "cells": [
  {
   "cell_type": "markdown",
   "id": "1dc42b63",
   "metadata": {},
   "source": [
    "**if-else statement**\n"
   ]
  },
  {
   "cell_type": "code",
   "execution_count": 3,
   "id": "0dc9452d",
   "metadata": {},
   "outputs": [
    {
     "name": "stdout",
     "output_type": "stream",
     "text": [
      "Enter your age11\n",
      "not eligible\n"
     ]
    }
   ],
   "source": [
    "age=int(input(\"Enter your age\"))\n",
    "if(age>18):\n",
    "    print(\"you are eligible to vote\")\n",
    "else:\n",
    "    print(\"not eligible\")"
   ]
  },
  {
   "cell_type": "markdown",
   "id": "ef203ed0",
   "metadata": {},
   "source": [
    "**if-elseif- ladder**"
   ]
  },
  {
   "cell_type": "code",
   "execution_count": 4,
   "id": "1a918e98",
   "metadata": {},
   "outputs": [
    {
     "name": "stdout",
     "output_type": "stream",
     "text": [
      "Enter a number35\n",
      "Entered number is less than 100\n"
     ]
    }
   ],
   "source": [
    "a=int(input(\"Enter a number\"))\n",
    "if(a>100):\n",
    "    print(\"Entered number is greater than 100\")\n",
    "elif(a<100):\n",
    "    print(\"Entered number is less than 100\")\n",
    "else:\n",
    "    print(\"Entered number is equal to 100\")\n",
    "    "
   ]
  },
  {
   "cell_type": "markdown",
   "id": "27418af7",
   "metadata": {},
   "source": [
    "**loops**\n",
    "\n"
   ]
  },
  {
   "cell_type": "markdown",
   "id": "45b4a1d8",
   "metadata": {},
   "source": [
    "**for loop**"
   ]
  },
  {
   "cell_type": "code",
   "execution_count": 7,
   "id": "cbe6ccb1",
   "metadata": {},
   "outputs": [
    {
     "name": "stdout",
     "output_type": "stream",
     "text": [
      "to print even numbers\n",
      "0\n",
      "2\n",
      "4\n",
      "6\n",
      "8\n"
     ]
    }
   ],
   "source": [
    "print(\"to print even numbers\")\n",
    "for i in range(0,10,2):\n",
    "    print(i)\n",
    "    "
   ]
  },
  {
   "cell_type": "markdown",
   "id": "703dfa42",
   "metadata": {},
   "source": [
    "**while loop**"
   ]
  },
  {
   "cell_type": "code",
   "execution_count": 18,
   "id": "b3ffa036",
   "metadata": {},
   "outputs": [
    {
     "name": "stdout",
     "output_type": "stream",
     "text": [
      "to print even numbers\n",
      "2\n",
      "4\n",
      "6\n",
      "8\n"
     ]
    }
   ],
   "source": [
    "i=0\n",
    "print(\"to print even numbers\")\n",
    "while i<7:\n",
    "    i=i+2\n",
    "    print(i)\n"
   ]
  },
  {
   "cell_type": "markdown",
   "id": "9472c459",
   "metadata": {},
   "source": [
    "**break statement**"
   ]
  },
  {
   "cell_type": "code",
   "execution_count": 30,
   "id": "7e7a460e",
   "metadata": {},
   "outputs": [
    {
     "name": "stdout",
     "output_type": "stream",
     "text": [
      "1\n",
      "2\n",
      "3\n",
      "4\n",
      "5\n"
     ]
    }
   ],
   "source": [
    "a=range(1,10)\n",
    "for i in a:\n",
    "    if(i==6):\n",
    "        break\n",
    "    print(i)\n"
   ]
  },
  {
   "cell_type": "markdown",
   "id": "23d7bf83",
   "metadata": {},
   "source": [
    "**continue statement**"
   ]
  },
  {
   "cell_type": "code",
   "execution_count": 31,
   "id": "24d4a230",
   "metadata": {},
   "outputs": [
    {
     "name": "stdout",
     "output_type": "stream",
     "text": [
      "1\n",
      "2\n",
      "3\n",
      "4\n",
      "5\n",
      "7\n",
      "8\n",
      "9\n"
     ]
    }
   ],
   "source": [
    "a=range(1,10)\n",
    "for i in a:\n",
    "    if(i==6):\n",
    "        continue\n",
    "    print(i)"
   ]
  },
  {
   "cell_type": "code",
   "execution_count": null,
   "id": "7b61e92c",
   "metadata": {},
   "outputs": [],
   "source": []
  }
 ],
 "metadata": {
  "kernelspec": {
   "display_name": "Python 3 (ipykernel)",
   "language": "python",
   "name": "python3"
  },
  "language_info": {
   "codemirror_mode": {
    "name": "ipython",
    "version": 3
   },
   "file_extension": ".py",
   "mimetype": "text/x-python",
   "name": "python",
   "nbconvert_exporter": "python",
   "pygments_lexer": "ipython3",
   "version": "3.10.9"
  }
 },
 "nbformat": 4,
 "nbformat_minor": 5
}
